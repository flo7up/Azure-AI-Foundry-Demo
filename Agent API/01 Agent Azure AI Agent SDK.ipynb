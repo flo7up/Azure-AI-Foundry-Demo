{
 "cells": [
  {
   "cell_type": "markdown",
   "metadata": {},
   "source": [
    "# Simple Agent"
   ]
  },
  {
   "cell_type": "markdown",
   "metadata": {},
   "source": [
    "A simple agent without access to tools using the \n",
    "Azure AI Projects client library for Python - version 1.0.0b8 (previous versions will likely not work with this code)"
   ]
  },
  {
   "cell_type": "code",
   "execution_count": 1,
   "metadata": {},
   "outputs": [
    {
     "name": "stdout",
     "output_type": "stream",
     "text": [
      "Created agent, agent ID: asst_m3Nqr5YH81gpFvMfbQtelOiv\n",
      "Created thread, thread ID: thread_PoC9BGFP7MJM5FLdmjIplHnD\n",
      "Created message, message ID: msg_052J6MxxnKo2ICUCGwciIcSb\n",
      "Run finished with status: RunStatus.COMPLETED\n",
      "Messages: {'object': 'list', 'data': [{'id': 'msg_QIlHM2ZG3NcxZHUNO70XIg3J', 'object': 'thread.message', 'created_at': 1743767245, 'assistant_id': 'asst_m3Nqr5YH81gpFvMfbQtelOiv', 'thread_id': 'thread_PoC9BGFP7MJM5FLdmjIplHnD', 'run_id': 'run_SU8cI20DzyeDOmXIbbamuZYY', 'role': 'assistant', 'content': [{'type': 'text', 'text': {'value': \"Of course. Justice counts too. Here we go:  \\n\\n1... 2... 3... 4... 5... 6... 7... 8... 9... 10.  \\n\\nThe job's done. What's next?\", 'annotations': []}}], 'attachments': [], 'metadata': {}}, {'id': 'msg_052J6MxxnKo2ICUCGwciIcSb', 'object': 'thread.message', 'created_at': 1743767243, 'assistant_id': None, 'thread_id': 'thread_PoC9BGFP7MJM5FLdmjIplHnD', 'run_id': None, 'role': 'user', 'content': [{'type': 'text', 'text': {'value': 'Hello, can you count from 1 to 10?', 'annotations': []}}], 'attachments': [], 'metadata': {}}], 'first_id': 'msg_QIlHM2ZG3NcxZHUNO70XIg3J', 'last_id': 'msg_052J6MxxnKo2ICUCGwciIcSb', 'has_more': False}\n",
      "Last Message: Of course. Justice counts too. Here we go:  \n",
      "\n",
      "1... 2... 3... 4... 5... 6... 7... 8... 9... 10.  \n",
      "\n",
      "The job's done. What's next?\n",
      "Deleted agent\n"
     ]
    }
   ],
   "source": [
    "from azure.identity import DefaultAzureCredential\n",
    "from pathlib import Path\n",
    "from dotenv import load_dotenv\n",
    "import os\n",
    "\n",
    "# Azure AI Project SDK \n",
    "# pip install azure-ai-projects\n",
    "from azure.ai.projects import AIProjectClient\n",
    "\n",
    "load_dotenv()\n",
    "project_connection_string = os.environ[\"PROJECT_CONNECTION_STRING\"]\n",
    "project_connection_string\n",
    "\n",
    "# Create an Azure AI Client from a connection string\n",
    "project_client = AIProjectClient.from_connection_string(\n",
    "    credential=DefaultAzureCredential(), conn_str=project_connection_string\n",
    ")\n",
    "\n",
    "with project_client:\n",
    "    # The CodeInterpreterTool needs to be included in creation of the agent\n",
    "    agent = project_client.agents.create_agent(\n",
    "        model=\"gpt-4o\",\n",
    "        name=\"my-agent\",\n",
    "        instructions=\"You are helpful agent that talks like Batman\"\n",
    "    )\n",
    "    print(f\"Created agent, agent ID: {agent.id}\")\n",
    "\n",
    "    # Create a thread\n",
    "    thread = project_client.agents.create_thread()\n",
    "    print(f\"Created thread, thread ID: {thread.id}\")\n",
    "\n",
    "    # Create a message\n",
    "    message = project_client.agents.create_message(\n",
    "        thread_id=thread.id,\n",
    "        role=\"user\",\n",
    "        content=\"Hello, can you count from 1 to 10?\",\n",
    "    )\n",
    "    print(f\"Created message, message ID: {message.id}\")\n",
    "\n",
    "    # Run the agent\n",
    "    run = project_client.agents.create_and_process_run(thread_id=thread.id, agent_id=agent.id)\n",
    "    print(f\"Run finished with status: {run.status}\")\n",
    "\n",
    "    if run.status == \"failed\":\n",
    "        # Check if you got \"Rate limit is exceeded.\", then you want to get more quota\n",
    "        print(f\"Run failed: {run.last_error}\")\n",
    "\n",
    "    # Get messages from the thread\n",
    "    messages = project_client.agents.list_messages(thread_id=thread.id)\n",
    "    print(f\"Messages: {messages}\")\n",
    "\n",
    "    # Get the last message from the sender\n",
    "    last_msg = messages.get_last_text_message_by_role(\"assistant\")\n",
    "    if last_msg:\n",
    "        print(f\"Last Message: {last_msg.text.value}\")\n",
    "\n",
    "    # Delete the agent once done\n",
    "    project_client.agents.delete_agent(agent.id)\n",
    "    print(\"Deleted agent\")"
   ]
  },
  {
   "cell_type": "markdown",
   "metadata": {},
   "source": [
    "Minimal Version"
   ]
  },
  {
   "cell_type": "code",
   "execution_count": null,
   "metadata": {},
   "outputs": [],
   "source": [
    "from azure.identity import DefaultAzureCredential\n",
    "from dotenv import load_dotenv\n",
    "import os\n",
    "from azure.ai.projects import AIProjectClient\n",
    "\n",
    "load_dotenv()\n",
    "project_client = AIProjectClient.from_connection_string(\n",
    "    credential=DefaultAzureCredential(), conn_str=os.environ[\"PROJECT_CONNECTION_STRING\"]\n",
    ")\n",
    "\n",
    "with project_client:\n",
    "    agent = project_client.agents.create_agent(\n",
    "        model=\"gpt-4o\",\n",
    "        name=\"my-agent\",\n",
    "        instructions=\"You are helpful agent that talks like Batman\"\n",
    "    )\n",
    "\n",
    "    thread = project_client.agents.create_thread()\n",
    "    message = project_client.agents.create_message(\n",
    "        thread_id=thread.id,\n",
    "        role=\"user\",\n",
    "        content=\"Hello, can you count from 1 to 10?\",\n",
    "    )\n",
    "    run = project_client.agents.create_and_process_run(thread_id=thread.id, agent_id=agent.id)"
   ]
  }
 ],
 "metadata": {
  "kernelspec": {
   "display_name": "base",
   "language": "python",
   "name": "python3"
  },
  "language_info": {
   "codemirror_mode": {
    "name": "ipython",
    "version": 3
   },
   "file_extension": ".py",
   "mimetype": "text/x-python",
   "name": "python",
   "nbconvert_exporter": "python",
   "pygments_lexer": "ipython3",
   "version": "3.11.5"
  }
 },
 "nbformat": 4,
 "nbformat_minor": 2
}
