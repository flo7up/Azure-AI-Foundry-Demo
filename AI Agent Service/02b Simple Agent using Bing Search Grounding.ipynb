{
 "cells": [
  {
   "cell_type": "markdown",
   "metadata": {},
   "source": [
    "# Bing Search Grounding Agent"
   ]
  },
  {
   "cell_type": "code",
   "execution_count": 5,
   "metadata": {},
   "outputs": [
    {
     "name": "stdout",
     "output_type": "stream",
     "text": [
      "Bing Connection ID: /subscriptions/d4cd7aa5-7232-42b5-8538-8a931412d74f/resourceGroups/agent-rg-713/providers/Microsoft.MachineLearningServices/workspaces/florianfollonier7-0437-regular/connections/binggrounding713\n",
      "Created agent, ID: asst_TicLK8VmuUTLUAYStYHRpJPd\n",
      "Created thread, ID: thread_gQCP7NxVR30JdthhBsHI4MBJ\n",
      "Created message, ID: msg_rUYGq6cs8zcJGK3D1WDiFnbj\n",
      "Run finished with status: RunStatus.COMPLETED\n",
      "Run steps: {'object': 'list', 'data': [{'id': 'step_gTa8vV6aoHjIDA8C30lNjo8L', 'object': 'thread.run.step', 'created_at': 1743694239, 'run_id': 'run_733sxb4CDpmcoPnSIOjC6cQM', 'assistant_id': 'asst_TicLK8VmuUTLUAYStYHRpJPd', 'thread_id': 'thread_gQCP7NxVR30JdthhBsHI4MBJ', 'type': 'message_creation', 'status': 'completed', 'cancelled_at': None, 'completed_at': 1743694240, 'expires_at': None, 'failed_at': None, 'last_error': None, 'step_details': {'type': 'message_creation', 'message_creation': {'message_id': 'msg_QuLIF090atyuIYfiIAg7Mu8y'}}, 'usage': {'prompt_tokens': 2472, 'completion_tokens': 111, 'total_tokens': 2583, 'prompt_token_details': {'cached_tokens': 0}}}, {'id': 'step_T5354lHgJa7Bx5N01jP7QHiG', 'object': 'thread.run.step', 'created_at': 1743694238, 'run_id': 'run_733sxb4CDpmcoPnSIOjC6cQM', 'assistant_id': 'asst_TicLK8VmuUTLUAYStYHRpJPd', 'thread_id': 'thread_gQCP7NxVR30JdthhBsHI4MBJ', 'type': 'tool_calls', 'status': 'completed', 'cancelled_at': None, 'completed_at': 1743694239, 'expires_at': None, 'failed_at': None, 'last_error': None, 'step_details': {'type': 'tool_calls', 'tool_calls': [{'id': 'call_J8JiEmpgPADpTJUAaoQJJFGJ', 'type': 'bing_grounding', 'bing_grounding': {'requesturl': 'https://api.bing.microsoft.com/v7.0/search?q=\"NVIDIA acquiring Lepton AI server rental April 2025\"'}}]}, 'usage': {'prompt_tokens': 2432, 'completion_tokens': 21, 'total_tokens': 2453, 'prompt_token_details': {'cached_tokens': 0}}}, {'id': 'step_NAYvX1nzDrXsJj4QDNYJNeWN', 'object': 'thread.run.step', 'created_at': 1743694237, 'run_id': 'run_733sxb4CDpmcoPnSIOjC6cQM', 'assistant_id': 'asst_TicLK8VmuUTLUAYStYHRpJPd', 'thread_id': 'thread_gQCP7NxVR30JdthhBsHI4MBJ', 'type': 'tool_calls', 'status': 'completed', 'cancelled_at': None, 'completed_at': 1743694238, 'expires_at': None, 'failed_at': None, 'last_error': None, 'step_details': {'type': 'tool_calls', 'tool_calls': [{'id': 'call_3ACAL68q2TnAAKSczmg6UTOG', 'type': 'bing_grounding', 'bing_grounding': {'requesturl': 'https://api.bing.microsoft.com/v7.0/search?q=\"latest AI announcements 2025 April\"'}}]}, 'usage': {'prompt_tokens': 0, 'completion_tokens': 0, 'total_tokens': 0, 'prompt_token_details': {'cached_tokens': 0}}}, {'id': 'step_ssGf8L1rYjV8l6CcR74N2Ceu', 'object': 'thread.run.step', 'created_at': 1743694235, 'run_id': 'run_733sxb4CDpmcoPnSIOjC6cQM', 'assistant_id': 'asst_TicLK8VmuUTLUAYStYHRpJPd', 'thread_id': 'thread_gQCP7NxVR30JdthhBsHI4MBJ', 'type': 'tool_calls', 'status': 'completed', 'cancelled_at': None, 'completed_at': 1743694237, 'expires_at': None, 'failed_at': None, 'last_error': None, 'step_details': {'type': 'tool_calls', 'tool_calls': [{'id': 'call_RiuGfo1E1jBO8lRxHUnjhC83', 'type': 'bing_grounding', 'bing_grounding': {'requesturl': 'https://api.bing.microsoft.com/v7.0/search?q=\"top Artificial Intelligence news April 3 2025\", recency_days=1)\"'}}]}, 'usage': {'prompt_tokens': 2744, 'completion_tokens': 41, 'total_tokens': 2785, 'prompt_token_details': {'cached_tokens': 0}}}], 'first_id': 'step_gTa8vV6aoHjIDA8C30lNjo8L', 'last_id': 'step_ssGf8L1rYjV8l6CcR74N2Ceu', 'has_more': False}\n",
      "Assistant: Today's notable AI news includes NVIDIA's reported advancements in acquiring Lepton AI, a startup specializing in AI server rentals using NVIDIA's chips. This acquisition would solidify NVIDIA's dominance in cloud-based AI services, increasing competition with major providers like Google and Amazon【7†source】【7†source】. Additionally, momentum towards acquiring Gretel Labs, an AI synthetic data provider, further highlights NVIDIA's strategic growth in AI capabilities【7†source】【7†source】【7†source】. Let me know if you'd like further insights or details!\n"
     ]
    }
   ],
   "source": [
    "import os\n",
    "from pathlib import Path\n",
    "from dotenv import load_dotenv\n",
    "from azure.identity import DefaultAzureCredential\n",
    "from azure.ai.projects import AIProjectClient\n",
    "from azure.ai.projects.models import BingGroundingTool\n",
    "\n",
    "# Load environment variables from .env file\n",
    "load_dotenv()\n",
    "project_connection_string = os.environ[\"PROJECT_CONNECTION_STRING\"]\n",
    "bing_connection_name = os.environ[\"BING_CONNECTION_NAME\"]\n",
    "\n",
    "# Create an Azure AI Client from the connection string\n",
    "project_client = AIProjectClient.from_connection_string(\n",
    "    credential=DefaultAzureCredential(),\n",
    "    conn_str=project_connection_string,\n",
    ")\n",
    "\n",
    "with project_client:\n",
    "    # Retrieve the Bing connection using the connection name\n",
    "    bing_connection = project_client.connections.get(connection_name=bing_connection_name)\n",
    "    conn_id = bing_connection.id\n",
    "    print(f\"Bing Connection ID: {conn_id}\")\n",
    "    \n",
    "    # Initialize the Bing Grounding Tool with the connection ID\n",
    "    bing = BingGroundingTool(connection_id=conn_id)\n",
    "    \n",
    "    # Create the agent using the Bing Grounding tool\n",
    "    agent = project_client.agents.create_agent(\n",
    "        model=\"gpt-4o\",\n",
    "        name=\"my-assistant\",\n",
    "        instructions=\"You are a helpful assistant.\",\n",
    "        tools=bing.definitions,\n",
    "        headers={\"x-ms-enable-preview\": \"true\"}\n",
    "    )\n",
    "    print(f\"Created agent, ID: {agent.id}\")\n",
    "    \n",
    "    # Create a conversation thread\n",
    "    thread = project_client.agents.create_thread()\n",
    "    print(f\"Created thread, ID: {thread.id}\")\n",
    "    \n",
    "    # Create a message in the thread (for example, asking for top news)\n",
    "    message = project_client.agents.create_message(\n",
    "        thread_id=thread.id,\n",
    "        role=\"user\",\n",
    "        content=\"What are the top Artificial Intelligence news today?\",\n",
    "    )\n",
    "    print(f\"Created message, ID: {message.id}\")\n",
    "    \n",
    "    # Process the agent run (the agent will use Bing grounding to answer)\n",
    "    run = project_client.agents.create_and_process_run(\n",
    "        thread_id=thread.id,\n",
    "        agent_id=agent.id\n",
    "    )\n",
    "    print(f\"Run finished with status: {run.status}\")\n",
    "    if run.status == \"failed\":\n",
    "        print(f\"Run failed: {run.last_error}\")\n",
    "    \n",
    "    # Retrieve run steps for further details (e.g., Bing search query details)\n",
    "    run_steps = project_client.agents.list_run_steps(run_id=run.id, thread_id=thread.id)\n",
    "    print(f\"Run steps: {run_steps}\")\n",
    "    \n",
    "    # Retrieve and print all messages from the thread\n",
    "    messages = project_client.agents.list_messages(thread_id=thread.id)\n",
    "    \n",
    "    last_msg_from_assistant = None\n",
    "    if \"data\" in messages and isinstance(messages[\"data\"], list):\n",
    "        for m in reversed(messages[\"data\"]):\n",
    "            if m.get(\"role\") == \"assistant\":\n",
    "                last_msg_from_assistant = m\n",
    "                break\n",
    "\n",
    "    # Print the last assistant message (text content)\n",
    "    if last_msg_from_assistant:\n",
    "        for content_item in last_msg_from_assistant.get(\"content\", []):\n",
    "            if content_item[\"type\"] == \"text\":\n",
    "                text_value = content_item[\"text\"][\"value\"]\n",
    "                print(f\"Assistant: {text_value}\")\n",
    "                \n",
    "    else:\n",
    "        print(\"No messages found from the assistant.\")\n",
    "        \n",
    "    # Delete the agent once done\n",
    "    project_client.agents.delete_agent(agent.id)\n"
   ]
  }
 ],
 "metadata": {
  "kernelspec": {
   "display_name": "base",
   "language": "python",
   "name": "python3"
  },
  "language_info": {
   "codemirror_mode": {
    "name": "ipython",
    "version": 3
   },
   "file_extension": ".py",
   "mimetype": "text/x-python",
   "name": "python",
   "nbconvert_exporter": "python",
   "pygments_lexer": "ipython3",
   "version": "3.11.5"
  }
 },
 "nbformat": 4,
 "nbformat_minor": 2
}
