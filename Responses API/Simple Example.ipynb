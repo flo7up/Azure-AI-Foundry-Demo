{
 "cells": [
  {
   "cell_type": "markdown",
   "metadata": {
    "vscode": {
     "languageId": "plaintext"
    }
   },
   "source": [
    "# Simple Example using Response API "
   ]
  },
  {
   "cell_type": "code",
   "execution_count": null,
   "metadata": {},
   "outputs": [],
   "source": [
    "# pip install --upgrade openai\n",
    "# tested with openai-1.70.0"
   ]
  },
  {
   "cell_type": "code",
   "execution_count": null,
   "metadata": {},
   "outputs": [
    {
     "name": "stdout",
     "output_type": "stream",
     "text": [
      "Response(id='resp_67eff65f51f4819092b146834b538092', created_at=1743779423.0, error=None, incomplete_details=None, instructions=None, metadata={}, model='gpt-4o', object='response', output=[ResponseOutputMessage(id='msg_67eff65fbdb88190a61f05620bba0b68', content=[ResponseOutputText(annotations=[], text='Hello! Let me know how I can assist you with your test. 😊', type='output_text')], role='assistant', status='completed', type='message')], parallel_tool_calls=True, temperature=1.0, tool_choice='auto', tools=[], top_p=1.0, max_output_tokens=None, previous_response_id=None, reasoning=Reasoning(effort=None, generate_summary=None), status='completed', text=ResponseTextConfig(format=ResponseFormatText(type='text')), truncation='disabled', usage=ResponseUsage(input_tokens=29, input_tokens_details=InputTokensDetails(cached_tokens=0), output_tokens=17, output_tokens_details=OutputTokensDetails(reasoning_tokens=0), total_tokens=46), user=None, store=True)\n"
     ]
    }
   ],
   "source": [
    "import os\n",
    "from openai import AzureOpenAI\n",
    "\n",
    "client = AzureOpenAI(\n",
    "    api_key=os.getenv(\"AZURE_OPENAI_API_KEY\"),  \n",
    "    api_version=\"2025-03-01-preview\",\n",
    "    azure_endpoint = os.getenv(\"AZURE_OPENAI_ENDPOINT\"),    \n",
    "    )\n",
    "\n",
    "response = client.responses.create(\n",
    "    model=\"gpt-4o\", # replace with your model deployment name \n",
    "    input=\"This is a test.\",\n",
    "    stream=False,\n",
    "    #truncation=\"auto\" required when using computer-use-preview model.\n",
    "\n",
    ")\n",
    "print(response)"
   ]
  },
  {
   "cell_type": "code",
   "execution_count": 25,
   "metadata": {},
   "outputs": [
    {
     "data": {
      "text/plain": [
       "\"Arrr, ye scallywag! Hoist the jolly roger and batten down the hatches, 'cause I'm ready to spin ye a yarn fit for the high seas! What be on yer mind, matey? Treasure maps? Sea monsters? Or perhaps a tale o' rum and plunder? Speak up, lest ye be takin' a swim with Davy Jones! 🏴\\u200d☠️\""
      ]
     },
     "execution_count": 25,
     "metadata": {},
     "output_type": "execute_result"
    }
   ],
   "source": [
    "from openai import AzureOpenAI\n",
    "import os \n",
    "\n",
    "client = AzureOpenAI(\n",
    "    api_key=os.getenv(\"AZURE_OPENAI_API_KEY\"),  \n",
    "    api_version=\"2025-03-01-preview\",\n",
    "    azure_endpoint = os.getenv(\"AZURE_OPENAI_ENDPOINT\")\n",
    "    )\n",
    "\n",
    "response = client.responses.create(  \n",
    "    model=\"gpt-4o\",  \n",
    "    input=[{\"role\": \"user\", \"content\": \"Talk like a pirate\"}],  \n",
    ")  \n",
    "\n",
    "response.output[0].content[0].text"
   ]
  },
  {
   "cell_type": "code",
   "execution_count": 26,
   "metadata": {},
   "outputs": [
    {
     "data": {
      "text/plain": [
       "'Ahoy there, matey! Ye come seekin’ parley, do ye? Well, spit it out, lest I mistake yer \"hello\" for the wind blowin’ through me spyglass! What be troublin’ yer salty soul today? ☠️'"
      ]
     },
     "execution_count": 26,
     "metadata": {},
     "output_type": "execute_result"
    }
   ],
   "source": [
    "second_response = client.responses.create(  \n",
    "    model=\"gpt-4o\",  \n",
    "    previous_response_id=response.id,  \n",
    "    input=\"Hello\"  \n",
    ")  \n",
    "\n",
    "second_response.output[0].content[0].text"
   ]
  }
 ],
 "metadata": {
  "kernelspec": {
   "display_name": "base",
   "language": "python",
   "name": "python3"
  },
  "language_info": {
   "codemirror_mode": {
    "name": "ipython",
    "version": 3
   },
   "file_extension": ".py",
   "mimetype": "text/x-python",
   "name": "python",
   "nbconvert_exporter": "python",
   "pygments_lexer": "ipython3",
   "version": "3.11.5"
  }
 },
 "nbformat": 4,
 "nbformat_minor": 2
}
